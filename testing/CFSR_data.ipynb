{
 "cells": [
  {
   "cell_type": "markdown",
   "id": "9e5b1cd8-10e1-4a77-91ae-ddad577fbd1e",
   "metadata": {},
   "source": [
    "# *\\*Reference Only\\**: Compute seasonal and annual means for 43 years of data from 1979 - 2022, and save locally as net cdf files\n",
    "\n",
    "#### Information: The code in this section is for reference only because the computations take a long time to run at ~6 minutes per year (over 4 hours for the full 43 years of data). This code has already been ran and net cdf files have been saved out, so those files can be read in and used as pre-computed datasets for later parts of this notebook.\n",
    "\n",
    "#### Data source: CFSR https://climatedataguide.ucar.edu/climate-data/climate-forecast-system-reanalysis-cfsr\n",
    "- Local copies of CFSR datasets were used in this notebook\n",
    "- Parent directory of local datasets: /cfsr/data/\n",
    "\n",
    "#### Referenced notebooks: \n",
    "- UAlbany ATM622 computing-seasonal.ipynb\n",
    "\n",
    "#### Notes (may remove for final version): \n",
    "- Similarly to notebook UAlbany ATM622 observed-circulation.ipynb, we used the pre-computed 30 year sesonal and monthly climatologies (done in the computing-seasonal.ipynb which we did not re-run as it takes a while and was saved out to disk after being ran once)\n",
    "    - But note: these are climatologies by month and season, so if we need data by year, we cannot use this dataset since year has been averaged out\n",
    " "
   ]
  },
  {
   "cell_type": "code",
   "execution_count": 1,
   "id": "044af721-c879-407d-92ba-5b15ff947ab1",
   "metadata": {},
   "outputs": [],
   "source": [
    "import xarray as xr\n",
    "import datetime #remove for final version\n",
    "import os"
   ]
  },
  {
   "cell_type": "code",
   "execution_count": 2,
   "id": "7037c346-461b-493a-b145-9e65fa93ef4d",
   "metadata": {},
   "outputs": [],
   "source": [
    "# ds = xr.open_mfdataset(f'/nfs/roselab_rit/data/cfsr_climatology/t.seas_clim.0p5.nc', chunks={'time':30*4, 'lev': 4}, parallel=True)\n",
    "# ds"
   ]
  },
  {
   "cell_type": "markdown",
   "id": "cd889410-ca77-4d6c-b75a-8d025d6729ad",
   "metadata": {},
   "source": [
    "#### Define functions to be used when looping over years for a given group mean (ex: seasonal, annual) and variable (ex: temp, zonal wind, etc.)"
   ]
  },
  {
   "cell_type": "code",
   "execution_count": 2,
   "id": "ce9afb15-f4f3-4283-ac39-7284e5e03584",
   "metadata": {},
   "outputs": [],
   "source": [
    "def make_dir(path):\n",
    "    \"\"\" \n",
    "    Input directory path as string\n",
    "    Creates the directory if it doesn't already exist\n",
    "    \"\"\" \n",
    "    if not os.path.exists(path):\n",
    "        os.makedirs(path)\n",
    "        \n",
    "def open_ds(yr):\n",
    "    \"\"\" Open dataset using dask \"\"\"\n",
    "    ds = xr.open_mfdataset(f'/cfsr/data/{yr}/{var}.{yr}.0p5.anl.nc', chunks={'time':30*4, 'lev': 4}, parallel=True) # removed this before /cfsr \"/network/daes\"\n",
    "    return ds\n",
    "\n",
    "def compute_save_means(ds_for_mean, yr):\n",
    "    \n",
    "    \"\"\" \n",
    "    Input dataset based depends on whether grouping seasonally, annually, etc.\n",
    "    Perform lazy execution averaging on the input dataset\n",
    "    Calculation is executed when saving to path\n",
    "    \"\"\"\n",
    "    ds_mean = ds_for_mean.mean(dim=('lon','time'), skipna=True)\n",
    "    save_path = f'{save_dir}/{group_desc}_{var}_{yr}.nc'\n",
    "    ds_mean.to_netcdf(save_path)\n",
    "    print(save_path) #comment out for final version\n",
    "    print(f\"finished {yr} at {datetime.datetime.now()}\") #comment out for final version\n",
    "    "
   ]
  },
  {
   "cell_type": "markdown",
   "id": "41a4f45d-b9e3-4279-b792-4fa1b332c690",
   "metadata": {},
   "source": [
    "#### *For seasonal mean temperatures*"
   ]
  },
  {
   "cell_type": "code",
   "execution_count": null,
   "id": "f47152fd-8c24-4ba7-9705-9000663cd564",
   "metadata": {},
   "outputs": [],
   "source": [
    "# Define variables \n",
    "var = 't' \n",
    "\n",
    "# Describes how data should be grouped, used in file and directory names\n",
    "group_desc = 'seasonal' \n",
    "\n",
    "# Directory where averaged net cdf files will be saved out\n",
    "save_dir = f'/home11/grad/2021/cs436778/general-circulation/project/data/{group_desc}'\n",
    "\n",
    "# Years of CFSR data to include; each will be looped over\n",
    "years = range(1979, 1980)\n"
   ]
  },
  {
   "cell_type": "code",
   "execution_count": null,
   "id": "48f90010-b1dd-4964-bf49-ca7f5ff8c0e0",
   "metadata": {},
   "outputs": [],
   "source": [
    "# execute functions\n",
    "\n",
    "make_dir(save_dir)\n",
    "\n",
    "for year in years:\n",
    "\n",
    "    ds = open_ds(year)\n",
    "\n",
    "    # group dataframe depending on seasonal, annual, monthly means\n",
    "    ds_grouped = ds.groupby(ds.time.dt.season)\n",
    "\n",
    "    compute_save_means(ds_grouped, year)"
   ]
  },
  {
   "cell_type": "code",
   "execution_count": null,
   "id": "0b4b785c-dfa3-4b56-bcf2-29622895e34d",
   "metadata": {},
   "outputs": [],
   "source": [
    "save_new.close()"
   ]
  },
  {
   "cell_type": "markdown",
   "id": "550ea40a-ea58-437e-9d7a-611aab0dbbbb",
   "metadata": {},
   "source": [
    "#### *For annual mean temperatures*"
   ]
  },
  {
   "cell_type": "code",
   "execution_count": null,
   "id": "22f2092c-79de-4f78-96c5-0b4b3d808345",
   "metadata": {},
   "outputs": [],
   "source": [
    "# Define variables \n",
    "var = 't' \n",
    "\n",
    "# Describes how data should be grouped, used in file and directory names\n",
    "group_desc = 'annual' \n",
    "\n",
    "# Directory where averaged net cdf files will be saved out\n",
    "save_dir = f'/home11/grad/2021/cs436778/general-circulation/project/data/{group_desc}'\n",
    "\n",
    "# Years of CFSR data to include; each will be looped over\n",
    "years = range(1980, 2023)\n"
   ]
  },
  {
   "cell_type": "code",
   "execution_count": null,
   "id": "7cd0bf3e-ca0c-400f-ad42-b9517136955c",
   "metadata": {},
   "outputs": [],
   "source": [
    "# execute functions\n",
    "\n",
    "make_dir(save_dir)\n",
    "\n",
    "for year in years:\n",
    "\n",
    "    ds = open_ds(year)\n",
    "\n",
    "    # group dataframe depending on seasonal, annual, monthly means\n",
    "    ds_grouped = ds.groupby(ds.time.dt.year)\n",
    "\n",
    "    compute_save_means(ds_grouped, year)"
   ]
  },
  {
   "cell_type": "markdown",
   "id": "761cb7a6-1e8c-4b1c-9e8b-0c3d08de8a5b",
   "metadata": {},
   "source": [
    "#### *For monthly mean v wind*"
   ]
  },
  {
   "cell_type": "code",
   "execution_count": 3,
   "id": "9b27e178-e901-4df7-89fe-ecbd9ba71a3e",
   "metadata": {},
   "outputs": [],
   "source": [
    "# Define variables \n",
    "var = 'v' \n",
    "\n",
    "# Describes how data should be grouped, used in file and directory names\n",
    "group_desc = 'monthly' \n",
    "\n",
    "# Directory where averaged net cdf files will be saved out\n",
    "save_dir = f'/home11/grad/2021/cs436778/general-circulation/project/data/{group_desc}'\n",
    "\n",
    "# Years of CFSR data to include; each will be looped over\n",
    "years = range(1980, 2023)"
   ]
  },
  {
   "cell_type": "code",
   "execution_count": 3,
   "id": "ffd04f79-7436-46d4-b3d0-28bf6e53f355",
   "metadata": {},
   "outputs": [
    {
     "name": "stdout",
     "output_type": "stream",
     "text": [
      "/network/daes/cfsr/data/2019/v.2019.0p5.anl.nc\n"
     ]
    }
   ],
   "source": [
    "print(f'/network/daes/cfsr/data/{2019}/{var}.{2019}.0p5.anl.nc')"
   ]
  },
  {
   "cell_type": "code",
   "execution_count": null,
   "id": "7062642f-a869-4b0f-a1ea-9696a5f2838b",
   "metadata": {},
   "outputs": [
    {
     "name": "stdout",
     "output_type": "stream",
     "text": [
      "/home11/grad/2021/cs436778/general-circulation/project/data/monthly/monthly_v_1980.nc\n",
      "finished 1980 at 2022-11-29 08:11:28.868963\n",
      "/home11/grad/2021/cs436778/general-circulation/project/data/monthly/monthly_v_1981.nc\n",
      "finished 1981 at 2022-11-29 08:24:22.881324\n",
      "/home11/grad/2021/cs436778/general-circulation/project/data/monthly/monthly_v_1983.nc\n",
      "finished 1983 at 2022-11-29 08:48:54.292785\n",
      "/home11/grad/2021/cs436778/general-circulation/project/data/monthly/monthly_v_1984.nc\n",
      "finished 1984 at 2022-11-29 09:01:10.778300\n",
      "/home11/grad/2021/cs436778/general-circulation/project/data/monthly/monthly_v_1985.nc\n",
      "finished 1985 at 2022-11-29 09:13:28.751232\n",
      "/home11/grad/2021/cs436778/general-circulation/project/data/monthly/monthly_v_1986.nc\n",
      "finished 1986 at 2022-11-29 09:26:00.036729\n",
      "/home11/grad/2021/cs436778/general-circulation/project/data/monthly/monthly_v_1987.nc\n",
      "finished 1987 at 2022-11-29 09:38:07.158037\n",
      "/home11/grad/2021/cs436778/general-circulation/project/data/monthly/monthly_v_1988.nc\n",
      "finished 1988 at 2022-11-29 09:51:12.672606\n",
      "/home11/grad/2021/cs436778/general-circulation/project/data/monthly/monthly_v_1989.nc\n",
      "finished 1989 at 2022-11-29 10:03:09.342970\n",
      "/home11/grad/2021/cs436778/general-circulation/project/data/monthly/monthly_v_1990.nc\n",
      "finished 1990 at 2022-11-29 10:15:31.270415\n",
      "/home11/grad/2021/cs436778/general-circulation/project/data/monthly/monthly_v_1991.nc\n",
      "finished 1991 at 2022-11-29 10:27:44.259636\n",
      "/home11/grad/2021/cs436778/general-circulation/project/data/monthly/monthly_v_1992.nc\n",
      "finished 1992 at 2022-11-29 10:40:36.319447\n",
      "/home11/grad/2021/cs436778/general-circulation/project/data/monthly/monthly_v_1993.nc\n",
      "finished 1993 at 2022-11-29 10:53:02.765558\n",
      "/home11/grad/2021/cs436778/general-circulation/project/data/monthly/monthly_v_1994.nc\n",
      "finished 1994 at 2022-11-29 11:11:54.151628\n",
      "/home11/grad/2021/cs436778/general-circulation/project/data/monthly/monthly_v_1995.nc\n",
      "finished 1995 at 2022-11-29 11:33:01.533462\n",
      "/home11/grad/2021/cs436778/general-circulation/project/data/monthly/monthly_v_1996.nc\n",
      "finished 1996 at 2022-11-29 11:47:04.732330\n"
     ]
    }
   ],
   "source": [
    "# execute functions\n",
    "\n",
    "make_dir(save_dir)\n",
    "\n",
    "for year in years:\n",
    "\n",
    "    ds = open_ds(year)\n",
    "\n",
    "    # group dataframe depending on seasonal, annual, monthly means\n",
    "    ds_grouped = ds.groupby(ds.time.dt.month)\n",
    "\n",
    "    compute_save_means(ds_grouped, year)"
   ]
  },
  {
   "cell_type": "markdown",
   "id": "0a8f6b86-f2c4-47a6-8df3-7ff815ba283f",
   "metadata": {},
   "source": [
    "#### *For seasonal wind v*"
   ]
  },
  {
   "cell_type": "code",
   "execution_count": 16,
   "id": "f322ceb2-7ed9-4170-af05-52d334e7500d",
   "metadata": {},
   "outputs": [],
   "source": [
    "# Define variables \n",
    "var = 'v' \n",
    "\n",
    "# Describes how data should be grouped, used in file and directory names\n",
    "group_desc = 'seasonal' \n",
    "\n",
    "# Directory where averaged net cdf files will be saved out\n",
    "save_dir = f'/home11/grad/2021/cs436778/general-circulation/project/data/{group_desc}'\n",
    "\n",
    "# Years of CFSR data to include; each will be looped over\n",
    "years = range(2000, 2001)"
   ]
  },
  {
   "cell_type": "code",
   "execution_count": 21,
   "id": "37731a7b-acc9-4369-b2cf-e28c697faa19",
   "metadata": {},
   "outputs": [
    {
     "data": {
      "text/plain": [
       "range(2000, 2023)"
      ]
     },
     "execution_count": 21,
     "metadata": {},
     "output_type": "execute_result"
    }
   ],
   "source": [
    "years"
   ]
  },
  {
   "cell_type": "code",
   "execution_count": 17,
   "id": "d28a7491-89f2-4c0d-880c-4ce21fdac0d2",
   "metadata": {},
   "outputs": [
    {
     "ename": "OSError",
     "evalue": "no files to open",
     "output_type": "error",
     "traceback": [
      "\u001b[0;31m---------------------------------------------------------------------------\u001b[0m",
      "\u001b[0;31mOSError\u001b[0m                                   Traceback (most recent call last)",
      "Input \u001b[0;32mIn [17]\u001b[0m, in \u001b[0;36m<cell line: 5>\u001b[0;34m()\u001b[0m\n\u001b[1;32m      3\u001b[0m make_dir(save_dir)\n\u001b[1;32m      5\u001b[0m \u001b[38;5;28;01mfor\u001b[39;00m year \u001b[38;5;129;01min\u001b[39;00m years:\n\u001b[0;32m----> 7\u001b[0m     ds \u001b[38;5;241m=\u001b[39m \u001b[43mopen_ds\u001b[49m\u001b[43m(\u001b[49m\u001b[43myear\u001b[49m\u001b[43m)\u001b[49m\n\u001b[1;32m      9\u001b[0m     \u001b[38;5;66;03m# group dataframe depending on seasonal, annual, monthly means\u001b[39;00m\n\u001b[1;32m     10\u001b[0m     ds_grouped \u001b[38;5;241m=\u001b[39m ds\u001b[38;5;241m.\u001b[39mgroupby(ds\u001b[38;5;241m.\u001b[39mtime\u001b[38;5;241m.\u001b[39mdt\u001b[38;5;241m.\u001b[39mseason)\n",
      "Input \u001b[0;32mIn [15]\u001b[0m, in \u001b[0;36mopen_ds\u001b[0;34m(yr)\u001b[0m\n\u001b[1;32m      9\u001b[0m \u001b[38;5;28;01mdef\u001b[39;00m \u001b[38;5;21mopen_ds\u001b[39m(yr):\n\u001b[1;32m     10\u001b[0m     \u001b[38;5;124;03m\"\"\" Open dataset using dask \"\"\"\u001b[39;00m\n\u001b[0;32m---> 11\u001b[0m     ds \u001b[38;5;241m=\u001b[39m \u001b[43mxr\u001b[49m\u001b[38;5;241;43m.\u001b[39;49m\u001b[43mopen_mfdataset\u001b[49m\u001b[43m(\u001b[49m\u001b[38;5;124;43mf\u001b[39;49m\u001b[38;5;124;43m'\u001b[39;49m\u001b[38;5;124;43m/network/daes/cfsr/data/\u001b[39;49m\u001b[38;5;132;43;01m{\u001b[39;49;00m\u001b[43myr\u001b[49m\u001b[38;5;132;43;01m}\u001b[39;49;00m\u001b[38;5;124;43m/\u001b[39;49m\u001b[38;5;132;43;01m{\u001b[39;49;00m\u001b[43mvar\u001b[49m\u001b[38;5;132;43;01m}\u001b[39;49;00m\u001b[38;5;124;43m.\u001b[39;49m\u001b[38;5;132;43;01m{\u001b[39;49;00m\u001b[43myr\u001b[49m\u001b[38;5;132;43;01m}\u001b[39;49;00m\u001b[38;5;124;43m.0p5.anl.nc\u001b[39;49m\u001b[38;5;124;43m'\u001b[39;49m\u001b[43m,\u001b[49m\u001b[43m \u001b[49m\u001b[43mchunks\u001b[49m\u001b[38;5;241;43m=\u001b[39;49m\u001b[43m{\u001b[49m\u001b[38;5;124;43m'\u001b[39;49m\u001b[38;5;124;43mtime\u001b[39;49m\u001b[38;5;124;43m'\u001b[39;49m\u001b[43m:\u001b[49m\u001b[38;5;241;43m30\u001b[39;49m\u001b[38;5;241;43m*\u001b[39;49m\u001b[38;5;241;43m4\u001b[39;49m\u001b[43m,\u001b[49m\u001b[43m \u001b[49m\u001b[38;5;124;43m'\u001b[39;49m\u001b[38;5;124;43mlev\u001b[39;49m\u001b[38;5;124;43m'\u001b[39;49m\u001b[43m:\u001b[49m\u001b[43m \u001b[49m\u001b[38;5;241;43m4\u001b[39;49m\u001b[43m}\u001b[49m\u001b[43m,\u001b[49m\u001b[43m \u001b[49m\u001b[43mparallel\u001b[49m\u001b[38;5;241;43m=\u001b[39;49m\u001b[38;5;28;43;01mTrue\u001b[39;49;00m\u001b[43m)\u001b[49m\n\u001b[1;32m     12\u001b[0m     \u001b[38;5;28;01mreturn\u001b[39;00m ds\n",
      "File \u001b[0;32m/knight/anaconda_aug22/envs/aug22_env/lib/python3.10/site-packages/xarray/backends/api.py:937\u001b[0m, in \u001b[0;36mopen_mfdataset\u001b[0;34m(paths, chunks, concat_dim, compat, preprocess, engine, data_vars, coords, combine, parallel, join, attrs_file, combine_attrs, **kwargs)\u001b[0m\n\u001b[1;32m    934\u001b[0m     paths \u001b[38;5;241m=\u001b[39m [os\u001b[38;5;241m.\u001b[39mfspath(p) \u001b[38;5;28;01mif\u001b[39;00m \u001b[38;5;28misinstance\u001b[39m(p, os\u001b[38;5;241m.\u001b[39mPathLike) \u001b[38;5;28;01melse\u001b[39;00m p \u001b[38;5;28;01mfor\u001b[39;00m p \u001b[38;5;129;01min\u001b[39;00m paths]\n\u001b[1;32m    936\u001b[0m \u001b[38;5;28;01mif\u001b[39;00m \u001b[38;5;129;01mnot\u001b[39;00m paths:\n\u001b[0;32m--> 937\u001b[0m     \u001b[38;5;28;01mraise\u001b[39;00m \u001b[38;5;167;01mOSError\u001b[39;00m(\u001b[38;5;124m\"\u001b[39m\u001b[38;5;124mno files to open\u001b[39m\u001b[38;5;124m\"\u001b[39m)\n\u001b[1;32m    939\u001b[0m \u001b[38;5;28;01mif\u001b[39;00m combine \u001b[38;5;241m==\u001b[39m \u001b[38;5;124m\"\u001b[39m\u001b[38;5;124mnested\u001b[39m\u001b[38;5;124m\"\u001b[39m:\n\u001b[1;32m    940\u001b[0m     \u001b[38;5;28;01mif\u001b[39;00m \u001b[38;5;28misinstance\u001b[39m(concat_dim, (\u001b[38;5;28mstr\u001b[39m, DataArray)) \u001b[38;5;129;01mor\u001b[39;00m concat_dim \u001b[38;5;129;01mis\u001b[39;00m \u001b[38;5;28;01mNone\u001b[39;00m:\n",
      "\u001b[0;31mOSError\u001b[0m: no files to open"
     ]
    }
   ],
   "source": [
    "# execute functions\n",
    "\n",
    "make_dir(save_dir)\n",
    "\n",
    "for year in years:\n",
    "\n",
    "    ds = open_ds(year)\n",
    "\n",
    "    # group dataframe depending on seasonal, annual, monthly means\n",
    "    ds_grouped = ds.groupby(ds.time.dt.season)\n",
    "\n",
    "    compute_save_means(ds_grouped, year)"
   ]
  },
  {
   "cell_type": "code",
   "execution_count": null,
   "id": "22d203ae-db4b-4966-92e6-9a00222e255a",
   "metadata": {},
   "outputs": [],
   "source": []
  }
 ],
 "metadata": {
  "kernelspec": {
   "display_name": "Python 3 August 2022 Environment",
   "language": "python",
   "name": "aug22"
  },
  "language_info": {
   "codemirror_mode": {
    "name": "ipython",
    "version": 3
   },
   "file_extension": ".py",
   "mimetype": "text/x-python",
   "name": "python",
   "nbconvert_exporter": "python",
   "pygments_lexer": "ipython3",
   "version": "3.10.5"
  }
 },
 "nbformat": 4,
 "nbformat_minor": 5
}

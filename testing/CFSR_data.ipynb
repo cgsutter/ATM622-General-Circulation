{
 "cells": [
  {
   "cell_type": "markdown",
   "id": "9e5b1cd8-10e1-4a77-91ae-ddad577fbd1e",
   "metadata": {},
   "source": [
    "# *\\*Reference Only\\**: Compute seasonal and annual means for 43 years of data from 1979 - 2022, and save locally as net cdf files\n",
    "\n",
    "#### Information: The code in this section is for reference only because the computations take a long time to run at ~6 minutes per year (over 4 hours for the full 43 years of data). This code has already been ran and net cdf files have been saved out, so those files can be read in and used as pre-computed datasets for later parts of this notebook.\n",
    "\n",
    "#### Data source: CFSR https://climatedataguide.ucar.edu/climate-data/climate-forecast-system-reanalysis-cfsr\n",
    "- Local copies of CFSR datasets were used in this notebook\n",
    "- Parent directory of local datasets: /cfsr/data/\n",
    "\n",
    "#### Referenced notebooks: \n",
    "- UAlbany ATM622 computing-seasonal.ipynb\n",
    "\n",
    "#### Notes (may remove for final version): \n",
    "- Similarly to notebook UAlbany ATM622 observed-circulation.ipynb, we used the pre-computed 30 year sesonal and monthly climatologies (done in the computing-seasonal.ipynb which we did not re-run as it takes a while and was saved out to disk after being ran once)\n",
    "    - But note: these are climatologies by month and season, so if we need data by year, we cannot use this dataset since year has been averaged out\n",
    " "
   ]
  },
  {
   "cell_type": "code",
   "execution_count": null,
   "id": "044af721-c879-407d-92ba-5b15ff947ab1",
   "metadata": {},
   "outputs": [],
   "source": [
    "import xarray as xr\n",
    "import datetime #remove for final version\n",
    "import os"
   ]
  },
  {
   "cell_type": "markdown",
   "id": "cd889410-ca77-4d6c-b75a-8d025d6729ad",
   "metadata": {},
   "source": [
    "#### Define functions to be used when looping over years for a given group mean (ex: seasonal, annual) and variable (ex: temp, zonal wind, etc.)"
   ]
  },
  {
   "cell_type": "code",
   "execution_count": null,
   "id": "ce9afb15-f4f3-4283-ac39-7284e5e03584",
   "metadata": {},
   "outputs": [],
   "source": [
    "def make_dir(path):\n",
    "    \"\"\" \n",
    "    Input directory path as string\n",
    "    Creates the directory if it doesn't already exist\n",
    "    \"\"\" \n",
    "    if not os.path.exists(path):\n",
    "        os.makedirs(path)\n",
    "        \n",
    "def open_ds(yr):\n",
    "    \"\"\" Open dataset using dask \"\"\"\n",
    "    ds = xr.open_mfdataset(f'/network/daes/cfsr/data/{yr}/{var}.{yr}.0p5.anl.nc', chunks={'time':30*4, 'lev': 4}, parallel=True)\n",
    "    return ds\n",
    "\n",
    "def compute_save_means(ds_for_mean, yr):\n",
    "    \n",
    "    \"\"\" \n",
    "    Input dataset based depends on whether grouping seasonally, annually, etc.\n",
    "    Perform lazy execution averaging on the input dataset\n",
    "    Calculation is executed when saving to path\n",
    "    \"\"\"\n",
    "    ds_mean = ds_for_mean.mean(dim=('lon','time'), skipna=True)\n",
    "    save_path = f'{save_dir}/{group_desc}_{var}_{yr}.nc'\n",
    "    ds_mean.to_netcdf(save_path)\n",
    "    print(save_path) #comment out for final version\n",
    "    print(f\"finished {yr} at {datetime.datetime.now()}\") #comment out for final version\n",
    "    "
   ]
  },
  {
   "cell_type": "markdown",
   "id": "41a4f45d-b9e3-4279-b792-4fa1b332c690",
   "metadata": {},
   "source": [
    "#### *For seasonal mean temperatures*"
   ]
  },
  {
   "cell_type": "code",
   "execution_count": null,
   "id": "f47152fd-8c24-4ba7-9705-9000663cd564",
   "metadata": {},
   "outputs": [],
   "source": [
    "# Define variables \n",
    "var = 't' \n",
    "\n",
    "# Describes how data should be grouped, used in file and directory names\n",
    "group_desc = 'seasonal' \n",
    "\n",
    "# Directory where averaged net cdf files will be saved out\n",
    "save_dir = f'/home11/grad/2021/cs436778/general-circulation/project/data/{group_desc}'\n",
    "\n",
    "# Years of CFSR data to include; each will be looped over\n",
    "years = range(1979, 1980)\n"
   ]
  },
  {
   "cell_type": "code",
   "execution_count": null,
   "id": "48f90010-b1dd-4964-bf49-ca7f5ff8c0e0",
   "metadata": {},
   "outputs": [],
   "source": [
    "# execute functions\n",
    "\n",
    "make_dir(save_dir)\n",
    "\n",
    "for year in years:\n",
    "\n",
    "    ds = open_ds(year)\n",
    "\n",
    "    # group dataframe depending on seasonal, annual, monthly means\n",
    "    ds_grouped = ds.groupby(ds.time.dt.season)\n",
    "\n",
    "    compute_save_means(ds_grouped, year)"
   ]
  },
  {
   "cell_type": "code",
   "execution_count": null,
   "id": "0b4b785c-dfa3-4b56-bcf2-29622895e34d",
   "metadata": {},
   "outputs": [],
   "source": [
    "save_new.close()"
   ]
  },
  {
   "cell_type": "markdown",
   "id": "550ea40a-ea58-437e-9d7a-611aab0dbbbb",
   "metadata": {},
   "source": [
    "#### *For annual mean temperatures*"
   ]
  },
  {
   "cell_type": "code",
   "execution_count": null,
   "id": "22f2092c-79de-4f78-96c5-0b4b3d808345",
   "metadata": {},
   "outputs": [],
   "source": [
    "# Define variables \n",
    "var = 't' \n",
    "\n",
    "# Describes how data should be grouped, used in file and directory names\n",
    "group_desc = 'annual' \n",
    "\n",
    "# Directory where averaged net cdf files will be saved out\n",
    "save_dir = f'/home11/grad/2021/cs436778/general-circulation/project/data/{group_desc}'\n",
    "\n",
    "# Years of CFSR data to include; each will be looped over\n",
    "years = range(1980, 2023)\n"
   ]
  },
  {
   "cell_type": "code",
   "execution_count": null,
   "id": "7cd0bf3e-ca0c-400f-ad42-b9517136955c",
   "metadata": {},
   "outputs": [],
   "source": [
    "# execute functions\n",
    "\n",
    "make_dir(save_dir)\n",
    "\n",
    "for year in years:\n",
    "\n",
    "    ds = open_ds(year)\n",
    "\n",
    "    # group dataframe depending on seasonal, annual, monthly means\n",
    "    ds_grouped = ds.groupby(ds.time.dt.year)\n",
    "\n",
    "    compute_save_means(ds_grouped, year)"
   ]
  },
  {
   "cell_type": "markdown",
   "id": "0a8f6b86-f2c4-47a6-8df3-7ff815ba283f",
   "metadata": {},
   "source": [
    "#### *For 30-year climatology*"
   ]
  },
  {
   "cell_type": "code",
   "execution_count": null,
   "id": "f322ceb2-7ed9-4170-af05-52d334e7500d",
   "metadata": {},
   "outputs": [],
   "source": [
    "# don't need, took average of the yearly files saved out "
   ]
  }
 ],
 "metadata": {
  "kernelspec": {
   "display_name": "Python 3 August 2022 Environment",
   "language": "python",
   "name": "aug22"
  },
  "language_info": {
   "codemirror_mode": {
    "name": "ipython",
    "version": 3
   },
   "file_extension": ".py",
   "mimetype": "text/x-python",
   "name": "python",
   "nbconvert_exporter": "python",
   "pygments_lexer": "ipython3",
   "version": "3.10.5"
  }
 },
 "nbformat": 4,
 "nbformat_minor": 5
}
